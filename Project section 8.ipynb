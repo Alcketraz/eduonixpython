{
 "cells": [
  {
   "cell_type": "code",
   "execution_count": 9,
   "metadata": {},
   "outputs": [
    {
     "name": "stdout",
     "output_type": "stream",
     "text": [
      "enter the number: 40\n",
      "Number is greater than 10\n",
      "Number is greater than 10\n",
      "Number is greater than 10\n",
      "Number is greater than 10\n",
      "Number is greater than 10\n",
      "Number is greater than 10\n",
      "Number is greater than 10\n",
      "Number is greater than 10\n",
      "Number is greater than 10\n",
      "Number is greater than 10\n"
     ]
    }
   ],
   "source": [
    "number= int(input(\"enter the number: \"))\n",
    "\n",
    "for i in range(1, 11):\n",
    "    if number not in range(1, 11):\n",
    "        print(\"Number is greater than 10\")\n",
    "    else:\n",
    "        print(\"Number is less than 10\")\n",
    "        \n",
    "        "
   ]
  },
  {
   "cell_type": "code",
   "execution_count": null,
   "metadata": {},
   "outputs": [],
   "source": []
  }
 ],
 "metadata": {
  "kernelspec": {
   "display_name": "Python 3",
   "language": "python",
   "name": "python3"
  },
  "language_info": {
   "codemirror_mode": {
    "name": "ipython",
    "version": 3
   },
   "file_extension": ".py",
   "mimetype": "text/x-python",
   "name": "python",
   "nbconvert_exporter": "python",
   "pygments_lexer": "ipython3",
   "version": "3.7.6"
  }
 },
 "nbformat": 4,
 "nbformat_minor": 4
}
