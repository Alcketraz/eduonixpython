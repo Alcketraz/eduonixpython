{
 "cells": [
  {
   "cell_type": "code",
   "execution_count": 6,
   "metadata": {},
   "outputs": [
    {
     "name": "stdout",
     "output_type": "stream",
     "text": [
      "enter the marks: 10\n",
      "failed!\n"
     ]
    }
   ],
   "source": [
    "marks = int(input(\"enter the marks: \"))\n",
    "\n",
    "if marks>=70 and marks<=100:\n",
    "    print(\"First class with distinction\")\n",
    "elif marks <=70 and marks>=60:\n",
    "    print(\"first class!\")\n",
    "elif marks >=40 and marks <=60:\n",
    "    print(\"passed!\")\n",
    "else:\n",
    "    print(\"failed!\")"
   ]
  },
  {
   "cell_type": "code",
   "execution_count": null,
   "metadata": {},
   "outputs": [],
   "source": []
  },
  {
   "cell_type": "code",
   "execution_count": null,
   "metadata": {},
   "outputs": [],
   "source": []
  }
 ],
 "metadata": {
  "kernelspec": {
   "display_name": "Python 3",
   "language": "python",
   "name": "python3"
  },
  "language_info": {
   "codemirror_mode": {
    "name": "ipython",
    "version": 3
   },
   "file_extension": ".py",
   "mimetype": "text/x-python",
   "name": "python",
   "nbconvert_exporter": "python",
   "pygments_lexer": "ipython3",
   "version": "3.7.6"
  }
 },
 "nbformat": 4,
 "nbformat_minor": 4
}
